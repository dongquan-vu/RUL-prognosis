{
 "cells": [
  {
   "cell_type": "markdown",
   "metadata": {},
   "source": [
    "# Data description and preprocessing\n",
    "\n"
   ]
  },
  {
   "cell_type": "code",
   "execution_count": 1,
   "metadata": {},
   "outputs": [
    {
     "name": "stdout",
     "output_type": "stream",
     "text": [
      "Pandas version:  1.4.2\n",
      "Numpy version:  1.21.5\n",
      "Scikit-learn version:  1.0.2\n"
     ]
    }
   ],
   "source": [
    "import pandas as pd\n",
    "import numpy as np\n",
    "import matplotlib.pyplot as plt\n",
    "import seaborn as sns\n",
    "import sklearn\n",
    "from sklearn.preprocessing import StandardScaler, MinMaxScaler\n",
    "\n",
    "pd.set_option('display.max_columns', None)\n",
    "\n",
    "print(\"Pandas version: \", pd.__version__)\n",
    "print(\"Numpy version: \", np.__version__)\n",
    "print(\"Scikit-learn version: \", sklearn.__version__)"
   ]
  },
  {
   "cell_type": "markdown",
   "metadata": {},
   "source": [
    "# 1. Analyzing training data"
   ]
  },
  {
   "cell_type": "markdown",
   "metadata": {},
   "source": [
    "## 1.1. Training Input "
   ]
  },
  {
   "cell_type": "code",
   "execution_count": 2,
   "metadata": {},
   "outputs": [],
   "source": [
    "dataset_path = \"C:\\\\Users\\\\d616780\\\\DQuan\\\\2022\\\\12-Projet_fil_rouge\\\\CMAPPS_data\""
   ]
  },
  {
   "cell_type": "code",
   "execution_count": 3,
   "metadata": {},
   "outputs": [
    {
     "data": {
      "text/plain": [
       "(20631, 26)"
      ]
     },
     "execution_count": 3,
     "metadata": {},
     "output_type": "execute_result"
    }
   ],
   "source": [
    "train_data = pd.read_csv(dataset_path + \"\\\\train_FD001.txt\", sep = \"\\s+\", header = None)\n",
    "train_data.shape"
   ]
  },
  {
   "cell_type": "code",
   "execution_count": 4,
   "metadata": {},
   "outputs": [
    {
     "data": {
      "text/html": [
       "<div>\n",
       "<style scoped>\n",
       "    .dataframe tbody tr th:only-of-type {\n",
       "        vertical-align: middle;\n",
       "    }\n",
       "\n",
       "    .dataframe tbody tr th {\n",
       "        vertical-align: top;\n",
       "    }\n",
       "\n",
       "    .dataframe thead th {\n",
       "        text-align: right;\n",
       "    }\n",
       "</style>\n",
       "<table border=\"1\" class=\"dataframe\">\n",
       "  <thead>\n",
       "    <tr style=\"text-align: right;\">\n",
       "      <th></th>\n",
       "      <th>0</th>\n",
       "      <th>1</th>\n",
       "      <th>2</th>\n",
       "      <th>3</th>\n",
       "      <th>4</th>\n",
       "      <th>5</th>\n",
       "      <th>6</th>\n",
       "      <th>7</th>\n",
       "      <th>8</th>\n",
       "      <th>9</th>\n",
       "      <th>10</th>\n",
       "      <th>11</th>\n",
       "      <th>12</th>\n",
       "      <th>13</th>\n",
       "      <th>14</th>\n",
       "      <th>15</th>\n",
       "      <th>16</th>\n",
       "      <th>17</th>\n",
       "      <th>18</th>\n",
       "      <th>19</th>\n",
       "      <th>20</th>\n",
       "      <th>21</th>\n",
       "      <th>22</th>\n",
       "      <th>23</th>\n",
       "      <th>24</th>\n",
       "      <th>25</th>\n",
       "    </tr>\n",
       "  </thead>\n",
       "  <tbody>\n",
       "    <tr>\n",
       "      <th>0</th>\n",
       "      <td>1</td>\n",
       "      <td>1</td>\n",
       "      <td>-0.0007</td>\n",
       "      <td>-0.0004</td>\n",
       "      <td>100.0</td>\n",
       "      <td>518.67</td>\n",
       "      <td>641.82</td>\n",
       "      <td>1589.70</td>\n",
       "      <td>1400.60</td>\n",
       "      <td>14.62</td>\n",
       "      <td>21.61</td>\n",
       "      <td>554.36</td>\n",
       "      <td>2388.06</td>\n",
       "      <td>9046.19</td>\n",
       "      <td>1.3</td>\n",
       "      <td>47.47</td>\n",
       "      <td>521.66</td>\n",
       "      <td>2388.02</td>\n",
       "      <td>8138.62</td>\n",
       "      <td>8.4195</td>\n",
       "      <td>0.03</td>\n",
       "      <td>392</td>\n",
       "      <td>2388</td>\n",
       "      <td>100.0</td>\n",
       "      <td>39.06</td>\n",
       "      <td>23.4190</td>\n",
       "    </tr>\n",
       "    <tr>\n",
       "      <th>1</th>\n",
       "      <td>1</td>\n",
       "      <td>2</td>\n",
       "      <td>0.0019</td>\n",
       "      <td>-0.0003</td>\n",
       "      <td>100.0</td>\n",
       "      <td>518.67</td>\n",
       "      <td>642.15</td>\n",
       "      <td>1591.82</td>\n",
       "      <td>1403.14</td>\n",
       "      <td>14.62</td>\n",
       "      <td>21.61</td>\n",
       "      <td>553.75</td>\n",
       "      <td>2388.04</td>\n",
       "      <td>9044.07</td>\n",
       "      <td>1.3</td>\n",
       "      <td>47.49</td>\n",
       "      <td>522.28</td>\n",
       "      <td>2388.07</td>\n",
       "      <td>8131.49</td>\n",
       "      <td>8.4318</td>\n",
       "      <td>0.03</td>\n",
       "      <td>392</td>\n",
       "      <td>2388</td>\n",
       "      <td>100.0</td>\n",
       "      <td>39.00</td>\n",
       "      <td>23.4236</td>\n",
       "    </tr>\n",
       "    <tr>\n",
       "      <th>2</th>\n",
       "      <td>1</td>\n",
       "      <td>3</td>\n",
       "      <td>-0.0043</td>\n",
       "      <td>0.0003</td>\n",
       "      <td>100.0</td>\n",
       "      <td>518.67</td>\n",
       "      <td>642.35</td>\n",
       "      <td>1587.99</td>\n",
       "      <td>1404.20</td>\n",
       "      <td>14.62</td>\n",
       "      <td>21.61</td>\n",
       "      <td>554.26</td>\n",
       "      <td>2388.08</td>\n",
       "      <td>9052.94</td>\n",
       "      <td>1.3</td>\n",
       "      <td>47.27</td>\n",
       "      <td>522.42</td>\n",
       "      <td>2388.03</td>\n",
       "      <td>8133.23</td>\n",
       "      <td>8.4178</td>\n",
       "      <td>0.03</td>\n",
       "      <td>390</td>\n",
       "      <td>2388</td>\n",
       "      <td>100.0</td>\n",
       "      <td>38.95</td>\n",
       "      <td>23.3442</td>\n",
       "    </tr>\n",
       "    <tr>\n",
       "      <th>3</th>\n",
       "      <td>1</td>\n",
       "      <td>4</td>\n",
       "      <td>0.0007</td>\n",
       "      <td>0.0000</td>\n",
       "      <td>100.0</td>\n",
       "      <td>518.67</td>\n",
       "      <td>642.35</td>\n",
       "      <td>1582.79</td>\n",
       "      <td>1401.87</td>\n",
       "      <td>14.62</td>\n",
       "      <td>21.61</td>\n",
       "      <td>554.45</td>\n",
       "      <td>2388.11</td>\n",
       "      <td>9049.48</td>\n",
       "      <td>1.3</td>\n",
       "      <td>47.13</td>\n",
       "      <td>522.86</td>\n",
       "      <td>2388.08</td>\n",
       "      <td>8133.83</td>\n",
       "      <td>8.3682</td>\n",
       "      <td>0.03</td>\n",
       "      <td>392</td>\n",
       "      <td>2388</td>\n",
       "      <td>100.0</td>\n",
       "      <td>38.88</td>\n",
       "      <td>23.3739</td>\n",
       "    </tr>\n",
       "    <tr>\n",
       "      <th>4</th>\n",
       "      <td>1</td>\n",
       "      <td>5</td>\n",
       "      <td>-0.0019</td>\n",
       "      <td>-0.0002</td>\n",
       "      <td>100.0</td>\n",
       "      <td>518.67</td>\n",
       "      <td>642.37</td>\n",
       "      <td>1582.85</td>\n",
       "      <td>1406.22</td>\n",
       "      <td>14.62</td>\n",
       "      <td>21.61</td>\n",
       "      <td>554.00</td>\n",
       "      <td>2388.06</td>\n",
       "      <td>9055.15</td>\n",
       "      <td>1.3</td>\n",
       "      <td>47.28</td>\n",
       "      <td>522.19</td>\n",
       "      <td>2388.04</td>\n",
       "      <td>8133.80</td>\n",
       "      <td>8.4294</td>\n",
       "      <td>0.03</td>\n",
       "      <td>393</td>\n",
       "      <td>2388</td>\n",
       "      <td>100.0</td>\n",
       "      <td>38.90</td>\n",
       "      <td>23.4044</td>\n",
       "    </tr>\n",
       "    <tr>\n",
       "      <th>...</th>\n",
       "      <td>...</td>\n",
       "      <td>...</td>\n",
       "      <td>...</td>\n",
       "      <td>...</td>\n",
       "      <td>...</td>\n",
       "      <td>...</td>\n",
       "      <td>...</td>\n",
       "      <td>...</td>\n",
       "      <td>...</td>\n",
       "      <td>...</td>\n",
       "      <td>...</td>\n",
       "      <td>...</td>\n",
       "      <td>...</td>\n",
       "      <td>...</td>\n",
       "      <td>...</td>\n",
       "      <td>...</td>\n",
       "      <td>...</td>\n",
       "      <td>...</td>\n",
       "      <td>...</td>\n",
       "      <td>...</td>\n",
       "      <td>...</td>\n",
       "      <td>...</td>\n",
       "      <td>...</td>\n",
       "      <td>...</td>\n",
       "      <td>...</td>\n",
       "      <td>...</td>\n",
       "    </tr>\n",
       "    <tr>\n",
       "      <th>188</th>\n",
       "      <td>1</td>\n",
       "      <td>189</td>\n",
       "      <td>-0.0006</td>\n",
       "      <td>0.0002</td>\n",
       "      <td>100.0</td>\n",
       "      <td>518.67</td>\n",
       "      <td>644.18</td>\n",
       "      <td>1596.17</td>\n",
       "      <td>1428.01</td>\n",
       "      <td>14.62</td>\n",
       "      <td>21.61</td>\n",
       "      <td>550.70</td>\n",
       "      <td>2388.27</td>\n",
       "      <td>9044.55</td>\n",
       "      <td>1.3</td>\n",
       "      <td>48.08</td>\n",
       "      <td>519.58</td>\n",
       "      <td>2388.33</td>\n",
       "      <td>8117.51</td>\n",
       "      <td>8.5183</td>\n",
       "      <td>0.03</td>\n",
       "      <td>395</td>\n",
       "      <td>2388</td>\n",
       "      <td>100.0</td>\n",
       "      <td>38.48</td>\n",
       "      <td>23.1127</td>\n",
       "    </tr>\n",
       "    <tr>\n",
       "      <th>189</th>\n",
       "      <td>1</td>\n",
       "      <td>190</td>\n",
       "      <td>-0.0027</td>\n",
       "      <td>0.0001</td>\n",
       "      <td>100.0</td>\n",
       "      <td>518.67</td>\n",
       "      <td>643.64</td>\n",
       "      <td>1599.22</td>\n",
       "      <td>1425.95</td>\n",
       "      <td>14.62</td>\n",
       "      <td>21.61</td>\n",
       "      <td>551.29</td>\n",
       "      <td>2388.29</td>\n",
       "      <td>9040.58</td>\n",
       "      <td>1.3</td>\n",
       "      <td>48.33</td>\n",
       "      <td>520.04</td>\n",
       "      <td>2388.35</td>\n",
       "      <td>8112.58</td>\n",
       "      <td>8.5223</td>\n",
       "      <td>0.03</td>\n",
       "      <td>398</td>\n",
       "      <td>2388</td>\n",
       "      <td>100.0</td>\n",
       "      <td>38.49</td>\n",
       "      <td>23.0675</td>\n",
       "    </tr>\n",
       "    <tr>\n",
       "      <th>190</th>\n",
       "      <td>1</td>\n",
       "      <td>191</td>\n",
       "      <td>-0.0000</td>\n",
       "      <td>-0.0004</td>\n",
       "      <td>100.0</td>\n",
       "      <td>518.67</td>\n",
       "      <td>643.34</td>\n",
       "      <td>1602.36</td>\n",
       "      <td>1425.77</td>\n",
       "      <td>14.62</td>\n",
       "      <td>21.61</td>\n",
       "      <td>550.92</td>\n",
       "      <td>2388.28</td>\n",
       "      <td>9042.76</td>\n",
       "      <td>1.3</td>\n",
       "      <td>48.15</td>\n",
       "      <td>519.57</td>\n",
       "      <td>2388.30</td>\n",
       "      <td>8114.61</td>\n",
       "      <td>8.5174</td>\n",
       "      <td>0.03</td>\n",
       "      <td>394</td>\n",
       "      <td>2388</td>\n",
       "      <td>100.0</td>\n",
       "      <td>38.45</td>\n",
       "      <td>23.1295</td>\n",
       "    </tr>\n",
       "    <tr>\n",
       "      <th>191</th>\n",
       "      <td>1</td>\n",
       "      <td>192</td>\n",
       "      <td>0.0009</td>\n",
       "      <td>-0.0000</td>\n",
       "      <td>100.0</td>\n",
       "      <td>518.67</td>\n",
       "      <td>643.54</td>\n",
       "      <td>1601.41</td>\n",
       "      <td>1427.20</td>\n",
       "      <td>14.62</td>\n",
       "      <td>21.61</td>\n",
       "      <td>551.25</td>\n",
       "      <td>2388.32</td>\n",
       "      <td>9033.22</td>\n",
       "      <td>1.3</td>\n",
       "      <td>48.25</td>\n",
       "      <td>520.08</td>\n",
       "      <td>2388.32</td>\n",
       "      <td>8110.93</td>\n",
       "      <td>8.5113</td>\n",
       "      <td>0.03</td>\n",
       "      <td>396</td>\n",
       "      <td>2388</td>\n",
       "      <td>100.0</td>\n",
       "      <td>38.48</td>\n",
       "      <td>22.9649</td>\n",
       "    </tr>\n",
       "    <tr>\n",
       "      <th>192</th>\n",
       "      <td>2</td>\n",
       "      <td>1</td>\n",
       "      <td>-0.0018</td>\n",
       "      <td>0.0006</td>\n",
       "      <td>100.0</td>\n",
       "      <td>518.67</td>\n",
       "      <td>641.89</td>\n",
       "      <td>1583.84</td>\n",
       "      <td>1391.28</td>\n",
       "      <td>14.62</td>\n",
       "      <td>21.60</td>\n",
       "      <td>554.53</td>\n",
       "      <td>2388.01</td>\n",
       "      <td>9054.72</td>\n",
       "      <td>1.3</td>\n",
       "      <td>46.93</td>\n",
       "      <td>522.33</td>\n",
       "      <td>2388.06</td>\n",
       "      <td>8137.72</td>\n",
       "      <td>8.3905</td>\n",
       "      <td>0.03</td>\n",
       "      <td>391</td>\n",
       "      <td>2388</td>\n",
       "      <td>100.0</td>\n",
       "      <td>38.94</td>\n",
       "      <td>23.4585</td>\n",
       "    </tr>\n",
       "  </tbody>\n",
       "</table>\n",
       "<p>193 rows × 26 columns</p>\n",
       "</div>"
      ],
      "text/plain": [
       "     0    1       2       3      4       5       6        7        8      9   \\\n",
       "0     1    1 -0.0007 -0.0004  100.0  518.67  641.82  1589.70  1400.60  14.62   \n",
       "1     1    2  0.0019 -0.0003  100.0  518.67  642.15  1591.82  1403.14  14.62   \n",
       "2     1    3 -0.0043  0.0003  100.0  518.67  642.35  1587.99  1404.20  14.62   \n",
       "3     1    4  0.0007  0.0000  100.0  518.67  642.35  1582.79  1401.87  14.62   \n",
       "4     1    5 -0.0019 -0.0002  100.0  518.67  642.37  1582.85  1406.22  14.62   \n",
       "..   ..  ...     ...     ...    ...     ...     ...      ...      ...    ...   \n",
       "188   1  189 -0.0006  0.0002  100.0  518.67  644.18  1596.17  1428.01  14.62   \n",
       "189   1  190 -0.0027  0.0001  100.0  518.67  643.64  1599.22  1425.95  14.62   \n",
       "190   1  191 -0.0000 -0.0004  100.0  518.67  643.34  1602.36  1425.77  14.62   \n",
       "191   1  192  0.0009 -0.0000  100.0  518.67  643.54  1601.41  1427.20  14.62   \n",
       "192   2    1 -0.0018  0.0006  100.0  518.67  641.89  1583.84  1391.28  14.62   \n",
       "\n",
       "        10      11       12       13   14     15      16       17       18  \\\n",
       "0    21.61  554.36  2388.06  9046.19  1.3  47.47  521.66  2388.02  8138.62   \n",
       "1    21.61  553.75  2388.04  9044.07  1.3  47.49  522.28  2388.07  8131.49   \n",
       "2    21.61  554.26  2388.08  9052.94  1.3  47.27  522.42  2388.03  8133.23   \n",
       "3    21.61  554.45  2388.11  9049.48  1.3  47.13  522.86  2388.08  8133.83   \n",
       "4    21.61  554.00  2388.06  9055.15  1.3  47.28  522.19  2388.04  8133.80   \n",
       "..     ...     ...      ...      ...  ...    ...     ...      ...      ...   \n",
       "188  21.61  550.70  2388.27  9044.55  1.3  48.08  519.58  2388.33  8117.51   \n",
       "189  21.61  551.29  2388.29  9040.58  1.3  48.33  520.04  2388.35  8112.58   \n",
       "190  21.61  550.92  2388.28  9042.76  1.3  48.15  519.57  2388.30  8114.61   \n",
       "191  21.61  551.25  2388.32  9033.22  1.3  48.25  520.08  2388.32  8110.93   \n",
       "192  21.60  554.53  2388.01  9054.72  1.3  46.93  522.33  2388.06  8137.72   \n",
       "\n",
       "         19    20   21    22     23     24       25  \n",
       "0    8.4195  0.03  392  2388  100.0  39.06  23.4190  \n",
       "1    8.4318  0.03  392  2388  100.0  39.00  23.4236  \n",
       "2    8.4178  0.03  390  2388  100.0  38.95  23.3442  \n",
       "3    8.3682  0.03  392  2388  100.0  38.88  23.3739  \n",
       "4    8.4294  0.03  393  2388  100.0  38.90  23.4044  \n",
       "..      ...   ...  ...   ...    ...    ...      ...  \n",
       "188  8.5183  0.03  395  2388  100.0  38.48  23.1127  \n",
       "189  8.5223  0.03  398  2388  100.0  38.49  23.0675  \n",
       "190  8.5174  0.03  394  2388  100.0  38.45  23.1295  \n",
       "191  8.5113  0.03  396  2388  100.0  38.48  22.9649  \n",
       "192  8.3905  0.03  391  2388  100.0  38.94  23.4585  \n",
       "\n",
       "[193 rows x 26 columns]"
      ]
     },
     "execution_count": 4,
     "metadata": {},
     "output_type": "execute_result"
    }
   ],
   "source": [
    "train_data[0:193]"
   ]
  },
  {
   "cell_type": "markdown",
   "metadata": {},
   "source": [
    "This dataset has 26 columns. Description of each column is as follows:\n",
    "\n",
    "* `Column 0`: Corresponds to engine number (This column is indexed 0 above because of Python's numbering convention)\n",
    "* `Column 1`: Corresponds to cycle number. If engine 1 fails after 192 cycles, the entries of second column for engine 1 will go from 1 to 192. Similarly for other engines. \n",
    "* `Columns 2,3,4`: 3 operational settings\n",
    "* `Columns 5-25`: 21 sensor measurements\n",
    "\n"
   ]
  },
  {
   "cell_type": "code",
   "execution_count": 5,
   "metadata": {},
   "outputs": [
    {
     "name": "stdout",
     "output_type": "stream",
     "text": [
      "0\n",
      "1      192\n",
      "2      287\n",
      "3      179\n",
      "4      189\n",
      "5      269\n",
      "      ... \n",
      "96     336\n",
      "97     202\n",
      "98     156\n",
      "99     185\n",
      "100    200\n",
      "Name: 1, Length: 100, dtype: int64\n"
     ]
    }
   ],
   "source": [
    "num_cycles_to_failure = train_data.groupby(0)[1].count()\n",
    "print(num_cycles_to_failure)"
   ]
  },
  {
   "cell_type": "markdown",
   "metadata": {},
   "source": [
    "## 1.2. Defining degradation model => Outputs of training set\n",
    "\n",
    "RUL of the engines is not explicitly given in the traning data; however, we can calculate RUL values from the training data. Remember that training data contains run to failure data of all engines.\n",
    "\n",
    "- `Linear degradation model`: Engine 1 fails after 192 cycles. So at the first cycle of engine 1, its RUL is 191. After cycle 2, its RUL is 190 and so on. As it fails after 192 cycles, at 192nd cycle, its RUL is 0. This type of degradation model is called linear degradation model. From the start of the cycle it decreases gradually to 0 at the last cycle.\n",
    "\n",
    "- `Piecewise linear degradation model`: at the beginning (for a number of cycles), RUL is assigned to a fixed number. The fixed number is called early RUL. When RUL value reaches early RUL, from there on RUL follows a linear degradation model.\n",
    "\n",
    "To illustrate both degradation model, we will plot RUL values for engine 1 using both models. RUL of engine 1 is 192 (found above). For piecewise linear degradation model, we take early RUL to be 125 (It's just a choice. There is no definite rule for selecting this value)."
   ]
  },
  {
   "cell_type": "code",
   "execution_count": 7,
   "metadata": {},
   "outputs": [],
   "source": [
    "engine_1_linear_degradation_model = np.arange(192 -1, -1, -1)   # step down from 191 to 0 with a step -1 each time\n",
    "\n",
    "# Piecewise_linear_degradation model\n",
    "early_rul = 125\n",
    "engine_1_piecewise_linear_degradation_model = np.append(early_rul*np.ones(shape = (192-early_rul,)),\n",
    "                                                        np.arange(early_rul-1, -1, -1))"
   ]
  },
  {
   "cell_type": "code",
   "execution_count": 81,
   "metadata": {},
   "outputs": [],
   "source": [
    "'''\n",
    "One might choose a degradation model of the form:\n",
    "rul(t) = max_rul - np.exp(a*t +b)\n",
    "such that rul(191) = 0 \n",
    "'''\n",
    "max_rul = 192\n",
    "exponential_degradation = []\n",
    "for t in range(192):\n",
    "    rul = np.round(max_rul - np.exp(t*np.log(max_rul)/191),4   )\n",
    "    exponential_degradation.append(rul)\n",
    "exponential_degradation = np.array(exponential_degradation)"
   ]
  },
  {
   "cell_type": "code",
   "execution_count": 82,
   "metadata": {},
   "outputs": [
    {
     "data": {
      "image/png": "[encoded data removed]",
      "text/plain": [
       "<Figure size 1296x432 with 3 Axes>"
      ]
     },
     "metadata": {
      "needs_background": "light"
     },
     "output_type": "display_data"
    }
   ],
   "source": [
    "fig, ax = plt.subplots(1,3,figsize = (18, 6))\n",
    "\n",
    "ax[0].plot(engine_1_linear_degradation_model)\n",
    "ax[0].set_title(\"Linear degradation model (engine 1)\")\n",
    "ax[0].set_xlabel('Time')\n",
    "ax[0].set_ylabel('RUL')\n",
    "\n",
    "\n",
    "ax[1].plot(engine_1_piecewise_linear_degradation_model)\n",
    "ax[1].set_title(\"Piecewise linear degradation plot (engine 1)\")\n",
    "ax[1].set_xlabel('Time')\n",
    "ax[1].set_ylabel('RUL')\n",
    "\n",
    "\n",
    "ax[2].plot(exponential_degradation)\n",
    "ax[2].set_title(\"exponential degradation plot (engine 1)\")\n",
    "ax[2].set_xlabel('Time')\n",
    "ax[2].set_ylabel('RUL')\n",
    "\n",
    "plt.show()"
   ]
  },
  {
   "cell_type": "markdown",
   "metadata": {},
   "source": [
    "In the following, we will focus on the piecewise linear degradation. "
   ]
  },
  {
   "cell_type": "markdown",
   "metadata": {},
   "source": [
    "### Exercise 1: \n",
    "\n",
    "**Ex1: Write a function that determine the RUL in a linear and piecewise_linear model (with early_rul as a parameter)**"
   ]
  },
  {
   "cell_type": "code",
   "execution_count": null,
   "metadata": {},
   "outputs": [],
   "source": [
    "def RUL_piecelinear(data_length, early_rul = None):\n",
    "    \"\"\"    \n",
    "    Arguments:\n",
    "        data_length: (scaler) Number of cycles for each engine\n",
    "        early_rul: (scaler) Early RUL value to be set. When set to `None`, linear degradation\n",
    "                   curve is used. (deafult: None)\n",
    "\n",
    "    Returns:\n",
    "        target_array: (1D float array) Target array\n",
    "    \"\"\"\n",
    "    "
   ]
  },
  {
   "cell_type": "markdown",
   "metadata": {},
   "source": [
    "Ex2: Examples: Plot out the RUL of an engine"
   ]
  },
  {
   "cell_type": "code",
   "execution_count": null,
   "metadata": {},
   "outputs": [],
   "source": [
    "'''\n",
    "Plot out to check RUL\n",
    "'''"
   ]
  },
  {
   "cell_type": "markdown",
   "metadata": {},
   "source": [
    "**Ex3: Create the output data for all 100 engines in traning dataset 1:**\n",
    "Create and save the RUL of engine i under the piecewise linear degradation model with ```early_rul = 125```"
   ]
  },
  {
   "cell_type": "code",
   "execution_count": 73,
   "metadata": {},
   "outputs": [],
   "source": [
    "'''\n",
    "for i in range(number of engines):\n",
    "    Derive the RUL of engine i according to the piecewise linear model\n",
    "\n",
    "Save all these to a file called 'dataset_path + '\\\\RUL_train\\\\RUL_train_FD001_early=125.txt'\n",
    "'''\n",
    "early_rul = 125\n",
    "num_of_engines = np.min([len(train_data[0].unique()), len(test_data[0].unique())])\n",
    "RUL_list = np.array([])\n",
    "engines = np.array([])\n",
    "for i in range(num_of_engines):\n",
    "    number_of_cycles_i = int(np.array(num_cycles_to_failure)[i])       # This is 192 for the first engine, 287 for the 2nd engine, etc\n",
    "    engine_i_model = np.append(early_rul*np.ones(shape = (number_of_cycles_i-early_rul,)),np.arange(early_rul-1, -1, -1))\n",
    "    RUL_list = np.concatenate((RUL_list, engine_i_model), axis = 0)\n",
    "    engines = np.concatenate((engines, (i+1) * np.ones(number_of_cycles_i) ), axis = 0)\n",
    "    \n",
    "\n",
    "df = pd.DataFrame({'engines': engines, 'RUL': RUL_list })\n",
    "'''\n",
    "We save the RUL of the piecewise linear degrdation model of engine 1\n",
    "'''\n",
    "import os\n",
    "if not os.path.exists(dataset_path + '\\\\RUL_train'): os.makedirs(dataset_path + '\\\\RUL_train')    \n",
    "df.to_csv(dataset_path + '\\\\RUL_train\\\\RUL_train_FD001_early=125.csv', index = False)"
   ]
  },
  {
   "cell_type": "markdown",
   "metadata": {},
   "source": [
    "**Ex4: Create the output data for all 100 engines in traning dataset 1:**\n",
    "Create and save the RUL of engine i under the exponential degradation model\n"
   ]
  },
  {
   "cell_type": "code",
   "execution_count": 85,
   "metadata": {},
   "outputs": [],
   "source": [
    "'''\n",
    "for i in range(number of engines):\n",
    "    Derive the RUL of engine i according to the piecewise linear model\n",
    "\n",
    "Save all these to a file called 'dataset_path + '\\\\RUL_train\\\\RUL_train_FD001_early=125.txt'\n",
    "'''\n",
    "max_rul = 125\n",
    "exponential_degradation = []\n",
    "\n",
    "\n",
    "\n",
    "num_of_engines = len(train_data[0].unique())\n",
    "RUL_list = np.array([])\n",
    "engines = np.array([])\n",
    "for i in range(num_of_engines):\n",
    "    number_of_cycles_i = int(np.array(num_cycles_to_failure)[i])       # This is 192 for the first engine, 287 for the 2nd engine, etc\n",
    "    engine_i_model=[]\n",
    "    for t in range(number_of_cycles_i):\n",
    "        rul = np.round(max_rul - np.exp(t*np.log(max_rul)/ (number_of_cycles_i-1)),4   )\n",
    "        engine_i_model.append(rul)\n",
    "    engine_i_model = np.array(engine_i_model)\n",
    "    RUL_list = np.concatenate((RUL_list, engine_i_model), axis = 0)\n",
    "    engines = np.concatenate((engines, (i+1) * np.ones(number_of_cycles_i) ), axis = 0)\n",
    "    \n",
    "\n",
    "df = pd.DataFrame({'engines': engines, 'RUL': RUL_list })\n",
    "'''\n",
    "We save the RUL of the piecewise linear degrdation model of engine 1\n",
    "'''\n",
    "import os\n",
    "if not os.path.exists(dataset_path + '\\\\RUL_train'): os.makedirs(dataset_path + '\\\\RUL_train')    \n",
    "df.to_csv(dataset_path + '\\\\RUL_train\\\\RUL_train_FD001_exp_max=125.csv', index = False)"
   ]
  },
  {
   "cell_type": "markdown",
   "metadata": {},
   "source": [
    "## 2. Analyzing Test data\n",
    "\n",
    "Test data are similar to train data with only one difference. While for training data, data are available until failure for each engine, for test data, it is available for an arbitrary number of cycles. Using the given test data, out goal is to predict RUL. For test data, true RUL values are also available so that we can compare the performance of our prediction algorithm."
   ]
  },
  {
   "cell_type": "markdown",
   "metadata": {},
   "source": [
    "## 2.1. Test Input"
   ]
  },
  {
   "cell_type": "code",
   "execution_count": 24,
   "metadata": {},
   "outputs": [
    {
     "data": {
      "text/plain": [
       "(13096, 26)"
      ]
     },
     "execution_count": 24,
     "metadata": {},
     "output_type": "execute_result"
    }
   ],
   "source": [
    "test_data = pd.read_csv(dataset_path + \"\\\\test_FD001.txt\", sep = \"\\s+\", header = None)\n",
    "test_data.shape"
   ]
  },
  {
   "cell_type": "code",
   "execution_count": 78,
   "metadata": {},
   "outputs": [
    {
     "data": {
      "text/html": [
       "<div>\n",
       "<style scoped>\n",
       "    .dataframe tbody tr th:only-of-type {\n",
       "        vertical-align: middle;\n",
       "    }\n",
       "\n",
       "    .dataframe tbody tr th {\n",
       "        vertical-align: top;\n",
       "    }\n",
       "\n",
       "    .dataframe thead th {\n",
       "        text-align: right;\n",
       "    }\n",
       "</style>\n",
       "<table border=\"1\" class=\"dataframe\">\n",
       "  <thead>\n",
       "    <tr style=\"text-align: right;\">\n",
       "      <th></th>\n",
       "      <th>0</th>\n",
       "      <th>1</th>\n",
       "      <th>2</th>\n",
       "      <th>3</th>\n",
       "      <th>4</th>\n",
       "      <th>5</th>\n",
       "      <th>6</th>\n",
       "      <th>7</th>\n",
       "      <th>8</th>\n",
       "      <th>9</th>\n",
       "      <th>10</th>\n",
       "      <th>11</th>\n",
       "      <th>12</th>\n",
       "      <th>13</th>\n",
       "      <th>14</th>\n",
       "      <th>15</th>\n",
       "      <th>16</th>\n",
       "      <th>17</th>\n",
       "      <th>18</th>\n",
       "      <th>19</th>\n",
       "      <th>20</th>\n",
       "      <th>21</th>\n",
       "      <th>22</th>\n",
       "      <th>23</th>\n",
       "      <th>24</th>\n",
       "      <th>25</th>\n",
       "    </tr>\n",
       "  </thead>\n",
       "  <tbody>\n",
       "    <tr>\n",
       "      <th>0</th>\n",
       "      <td>1</td>\n",
       "      <td>1</td>\n",
       "      <td>0.0023</td>\n",
       "      <td>0.0003</td>\n",
       "      <td>100.0</td>\n",
       "      <td>518.67</td>\n",
       "      <td>643.02</td>\n",
       "      <td>1585.29</td>\n",
       "      <td>1398.21</td>\n",
       "      <td>14.62</td>\n",
       "      <td>21.61</td>\n",
       "      <td>553.90</td>\n",
       "      <td>2388.04</td>\n",
       "      <td>9050.17</td>\n",
       "      <td>1.3</td>\n",
       "      <td>47.20</td>\n",
       "      <td>521.72</td>\n",
       "      <td>2388.03</td>\n",
       "      <td>8125.55</td>\n",
       "      <td>8.4052</td>\n",
       "      <td>0.03</td>\n",
       "      <td>392</td>\n",
       "      <td>2388</td>\n",
       "      <td>100.0</td>\n",
       "      <td>38.86</td>\n",
       "      <td>23.3735</td>\n",
       "    </tr>\n",
       "    <tr>\n",
       "      <th>1</th>\n",
       "      <td>1</td>\n",
       "      <td>2</td>\n",
       "      <td>-0.0027</td>\n",
       "      <td>-0.0003</td>\n",
       "      <td>100.0</td>\n",
       "      <td>518.67</td>\n",
       "      <td>641.71</td>\n",
       "      <td>1588.45</td>\n",
       "      <td>1395.42</td>\n",
       "      <td>14.62</td>\n",
       "      <td>21.61</td>\n",
       "      <td>554.85</td>\n",
       "      <td>2388.01</td>\n",
       "      <td>9054.42</td>\n",
       "      <td>1.3</td>\n",
       "      <td>47.50</td>\n",
       "      <td>522.16</td>\n",
       "      <td>2388.06</td>\n",
       "      <td>8139.62</td>\n",
       "      <td>8.3803</td>\n",
       "      <td>0.03</td>\n",
       "      <td>393</td>\n",
       "      <td>2388</td>\n",
       "      <td>100.0</td>\n",
       "      <td>39.02</td>\n",
       "      <td>23.3916</td>\n",
       "    </tr>\n",
       "    <tr>\n",
       "      <th>2</th>\n",
       "      <td>1</td>\n",
       "      <td>3</td>\n",
       "      <td>0.0003</td>\n",
       "      <td>0.0001</td>\n",
       "      <td>100.0</td>\n",
       "      <td>518.67</td>\n",
       "      <td>642.46</td>\n",
       "      <td>1586.94</td>\n",
       "      <td>1401.34</td>\n",
       "      <td>14.62</td>\n",
       "      <td>21.61</td>\n",
       "      <td>554.11</td>\n",
       "      <td>2388.05</td>\n",
       "      <td>9056.96</td>\n",
       "      <td>1.3</td>\n",
       "      <td>47.50</td>\n",
       "      <td>521.97</td>\n",
       "      <td>2388.03</td>\n",
       "      <td>8130.10</td>\n",
       "      <td>8.4441</td>\n",
       "      <td>0.03</td>\n",
       "      <td>393</td>\n",
       "      <td>2388</td>\n",
       "      <td>100.0</td>\n",
       "      <td>39.08</td>\n",
       "      <td>23.4166</td>\n",
       "    </tr>\n",
       "    <tr>\n",
       "      <th>3</th>\n",
       "      <td>1</td>\n",
       "      <td>4</td>\n",
       "      <td>0.0042</td>\n",
       "      <td>0.0000</td>\n",
       "      <td>100.0</td>\n",
       "      <td>518.67</td>\n",
       "      <td>642.44</td>\n",
       "      <td>1584.12</td>\n",
       "      <td>1406.42</td>\n",
       "      <td>14.62</td>\n",
       "      <td>21.61</td>\n",
       "      <td>554.07</td>\n",
       "      <td>2388.03</td>\n",
       "      <td>9045.29</td>\n",
       "      <td>1.3</td>\n",
       "      <td>47.28</td>\n",
       "      <td>521.38</td>\n",
       "      <td>2388.05</td>\n",
       "      <td>8132.90</td>\n",
       "      <td>8.3917</td>\n",
       "      <td>0.03</td>\n",
       "      <td>391</td>\n",
       "      <td>2388</td>\n",
       "      <td>100.0</td>\n",
       "      <td>39.00</td>\n",
       "      <td>23.3737</td>\n",
       "    </tr>\n",
       "    <tr>\n",
       "      <th>4</th>\n",
       "      <td>1</td>\n",
       "      <td>5</td>\n",
       "      <td>0.0014</td>\n",
       "      <td>0.0000</td>\n",
       "      <td>100.0</td>\n",
       "      <td>518.67</td>\n",
       "      <td>642.51</td>\n",
       "      <td>1587.19</td>\n",
       "      <td>1401.92</td>\n",
       "      <td>14.62</td>\n",
       "      <td>21.61</td>\n",
       "      <td>554.16</td>\n",
       "      <td>2388.01</td>\n",
       "      <td>9044.55</td>\n",
       "      <td>1.3</td>\n",
       "      <td>47.31</td>\n",
       "      <td>522.15</td>\n",
       "      <td>2388.03</td>\n",
       "      <td>8129.54</td>\n",
       "      <td>8.4031</td>\n",
       "      <td>0.03</td>\n",
       "      <td>390</td>\n",
       "      <td>2388</td>\n",
       "      <td>100.0</td>\n",
       "      <td>38.99</td>\n",
       "      <td>23.4130</td>\n",
       "    </tr>\n",
       "  </tbody>\n",
       "</table>\n",
       "</div>"
      ],
      "text/plain": [
       "   0   1       2       3      4       5       6        7        8      9   \\\n",
       "0   1   1  0.0023  0.0003  100.0  518.67  643.02  1585.29  1398.21  14.62   \n",
       "1   1   2 -0.0027 -0.0003  100.0  518.67  641.71  1588.45  1395.42  14.62   \n",
       "2   1   3  0.0003  0.0001  100.0  518.67  642.46  1586.94  1401.34  14.62   \n",
       "3   1   4  0.0042  0.0000  100.0  518.67  642.44  1584.12  1406.42  14.62   \n",
       "4   1   5  0.0014  0.0000  100.0  518.67  642.51  1587.19  1401.92  14.62   \n",
       "\n",
       "      10      11       12       13   14     15      16       17       18  \\\n",
       "0  21.61  553.90  2388.04  9050.17  1.3  47.20  521.72  2388.03  8125.55   \n",
       "1  21.61  554.85  2388.01  9054.42  1.3  47.50  522.16  2388.06  8139.62   \n",
       "2  21.61  554.11  2388.05  9056.96  1.3  47.50  521.97  2388.03  8130.10   \n",
       "3  21.61  554.07  2388.03  9045.29  1.3  47.28  521.38  2388.05  8132.90   \n",
       "4  21.61  554.16  2388.01  9044.55  1.3  47.31  522.15  2388.03  8129.54   \n",
       "\n",
       "       19    20   21    22     23     24       25  \n",
       "0  8.4052  0.03  392  2388  100.0  38.86  23.3735  \n",
       "1  8.3803  0.03  393  2388  100.0  39.02  23.3916  \n",
       "2  8.4441  0.03  393  2388  100.0  39.08  23.4166  \n",
       "3  8.3917  0.03  391  2388  100.0  39.00  23.3737  \n",
       "4  8.4031  0.03  390  2388  100.0  38.99  23.4130  "
      ]
     },
     "execution_count": 78,
     "metadata": {},
     "output_type": "execute_result"
    }
   ],
   "source": [
    "test_data.head()"
   ]
  },
  {
   "cell_type": "code",
   "execution_count": 26,
   "metadata": {},
   "outputs": [
    {
     "data": {
      "text/plain": [
       "0\n",
       "1       31\n",
       "2       49\n",
       "3      126\n",
       "4      106\n",
       "5       98\n",
       "      ... \n",
       "96      97\n",
       "97     134\n",
       "98     121\n",
       "99      97\n",
       "100    198\n",
       "Name: 1, Length: 100, dtype: int64"
      ]
     },
     "execution_count": 26,
     "metadata": {},
     "output_type": "execute_result"
    }
   ],
   "source": [
    "test_data.groupby(0)[1].count()"
   ]
  },
  {
   "cell_type": "markdown",
   "metadata": {},
   "source": [
    "## 2.2. Test output (true values)"
   ]
  },
  {
   "cell_type": "code",
   "execution_count": 59,
   "metadata": {},
   "outputs": [
    {
     "data": {
      "text/plain": [
       "array([112,  98,  69,  82,  91,  93,  91,  95, 111,  96,  97, 124,  95,\n",
       "       107,  83,  84,  50,  28,  87,  16,  57, 111, 113,  20, 145, 119,\n",
       "        66,  97,  90, 115,   8,  48, 106,   7,  11,  19,  21,  50, 142,\n",
       "        28,  18,  10,  59, 109, 114,  47, 135,  92,  21,  79, 114,  29,\n",
       "        26,  97, 137,  15, 103,  37, 114, 100,  21,  54,  72,  28, 128,\n",
       "        14,  77,   8, 121,  94, 118,  50, 131, 126, 113,  10,  34, 107,\n",
       "        63,  90,   8,   9, 137,  58, 118,  89, 116, 115, 136,  28,  38,\n",
       "        20,  85,  55, 128, 137,  82,  59, 117,  20], dtype=int64)"
      ]
     },
     "execution_count": 59,
     "metadata": {},
     "output_type": "execute_result"
    }
   ],
   "source": [
    "rul_of_last = pd.read_csv(dataset_path + \"\\\\RUL_FD001.txt\", sep = '\\s+', header = None)\n",
    "rul_of_last[0].values"
   ]
  },
  {
   "cell_type": "markdown",
   "metadata": {},
   "source": [
    "**Remark:** An RUL value of 112 for engine 1 in test set means that after the 31st cycle, it will remain for another 112 cycles. Said differently, in total engine 1 ran for (31+112) cycles before it failed. "
   ]
  },
  {
   "cell_type": "markdown",
   "metadata": {},
   "source": [
    "# 3. Data Preprocessing:"
   ]
  },
  {
   "cell_type": "markdown",
   "metadata": {},
   "source": [
    "For our analysis, we will choose among the columns in the dataset to use as feature in learning. The first two columns contain engine and cycle information respectively; therefore, we don't need those columns while training an algorithm. \n",
    "\n",
    "To know which of the columns to be used, we first analyze their statistics to have some rough idea about the contents of the data:"
   ]
  },
  {
   "cell_type": "code",
   "execution_count": 36,
   "metadata": {},
   "outputs": [
    {
     "data": {
      "image/png": "[encoded data removed]",
      "text/plain": [
       "<Figure size 1080x1800 with 24 Axes>"
      ]
     },
     "metadata": {
      "needs_background": "light"
     },
     "output_type": "display_data"
    }
   ],
   "source": [
    "'''\n",
    "We use box-plot to have a statistic in each column of the dataset ()\n",
    "'''\n",
    "fig, axes =  plt.subplots(8,3,figsize=(15,25))\n",
    "\n",
    "for i in np.arange(2, 26):        # column 5 in python means actual 6th column\n",
    "    row_position = int(np.floor(i-2)/3)\n",
    "    col_position = int((i-2)%3)\n",
    "    temp = train_data.iloc[:, i]\n",
    "    axes[row_position,col_position].boxplot(temp)\n",
    "    axes[row_position,col_position].set_title(\"Column: \"+ str(i))\n",
    "plt.show()"
   ]
  },
  {
   "cell_type": "markdown",
   "metadata": {},
   "source": [
    "From the above plot we see that columns 4, 5, 9, 10, 14, 20, 22, 23 contain constant values (or only a very few different values)."
   ]
  },
  {
   "cell_type": "markdown",
   "metadata": {},
   "source": [
    "Constant values don't help us much while training an algorithm (it might even do more harm than good to include constant features). Sometimes we also have to normalize data (subtract mean and divide by standard deviation). If a column contains a constant value, its standard deviation is zero. So normalization of that column is not possible as it requires division by zero. For these reasons, we will drop the columns containing constant values."
   ]
  },
  {
   "cell_type": "markdown",
   "metadata": {},
   "source": [
    "### Some decisions on data pre-processing"
   ]
  },
  {
   "cell_type": "markdown",
   "metadata": {},
   "source": [
    "Before actually training an algorithm, we often need to ask ourself the following (non-exhauted) list of questions:\n",
    "\n",
    "- Should data be scaled?\n",
    "- If data are scaled, should a single scaling be applied to all engines or individual scaling be applied for every engine?\n",
    "- Should we split the training data into training set and validation set\n",
    "- Given an algorithm, how should we test its performance? Which samples from the test set to be used?\n",
    "\n",
    "**In the context of RUL-prediction, there is another important question:**\n",
    "Naively, we can feed each row of the data (i.e., an instance of state of an engine) as a data point into the algorithm; however, doing so will ignore the fact that we are dealing with temporal data. Therefore, we pose the question:\n",
    "\n",
    "- Shall we use window of data to feed into the traning algorithm? If yes, which window lengths and how do they overlap?\n",
    "\n",
    "![window preprocessing](data_windowing_prognosis.png)\n"
   ]
  },
  {
   "cell_type": "code",
   "execution_count": null,
   "metadata": {},
   "outputs": [],
   "source": []
  }
 ],
 "metadata": {
  "interpreter": {
   "hash": "5352277b038e05370ed4135ebde06a9812d987e8dd340db6c4dc30b2be1bb5c1"
  },
  "kernelspec": {
   "display_name": "Python 3 (ipykernel)",
   "language": "python",
   "name": "python3"
  },
  "language_info": {
   "codemirror_mode": {
    "name": "ipython",
    "version": 3
   },
   "file_extension": ".py",
   "mimetype": "text/x-python",
   "name": "python",
   "nbconvert_exporter": "python",
   "pygments_lexer": "ipython3",
   "version": "3.9.12"
  },
  "toc": {
   "base_numbering": 1,
   "nav_menu": {},
   "number_sections": false,
   "sideBar": true,
   "skip_h1_title": false,
   "title_cell": "Table of Contents",
   "title_sidebar": "Contents",
   "toc_cell": false,
   "toc_position": {},
   "toc_section_display": true,
   "toc_window_display": false
  },
  "varInspector": {
   "cols": {
    "lenName": 16,
    "lenType": 16,
    "lenVar": 40
   },
   "kernels_config": {
    "python": {
     "delete_cmd_postfix": "",
     "delete_cmd_prefix": "del ",
     "library": "var_list.py",
     "varRefreshCmd": "print(var_dic_list())"
    },
    "r": {
     "delete_cmd_postfix": ") ",
     "delete_cmd_prefix": "rm(",
     "library": "var_list.r",
     "varRefreshCmd": "cat(var_dic_list()) "
    }
   },
   "types_to_exclude": [
    "module",
    "function",
    "builtin_function_or_method",
    "instance",
    "_Feature"
   ],
   "window_display": false
  }
 },
 "nbformat": 4,
 "nbformat_minor": 2
}
